{
 "cells": [
  {
   "cell_type": "code",
   "execution_count": 1,
   "id": "ad4124d7",
   "metadata": {},
   "outputs": [
    {
     "name": "stderr",
     "output_type": "stream",
     "text": [
      "[nltk_data] Downloading package stopwords to\n",
      "[nltk_data]     /Users/thomasbritnell/nltk_data...\n",
      "[nltk_data]   Package stopwords is already up-to-date!\n"
     ]
    },
    {
     "data": {
      "text/plain": [
       "True"
      ]
     },
     "execution_count": 1,
     "metadata": {},
     "output_type": "execute_result"
    }
   ],
   "source": [
    "import pandas as pd\n",
    "import numpy as np\n",
    "from textblob import TextBlob\n",
    "import sqlite3\n",
    "import os\n",
    "import pickle\n",
    "import re\n",
    "import time\n",
    "from nltk.corpus import stopwords\n",
    "import nltk\n",
    "nltk.download('stopwords')"
   ]
  },
  {
   "cell_type": "markdown",
   "id": "c2f0f6c5",
   "metadata": {},
   "source": [
    "## Data Acquisition\n",
    "\n",
    "##### I tried web scraping of RateYourMusic to get more personalized data for me, but I kept running into CAPTCHA problems. Instead I am using pre-scraped data from Kaggle. This data is 18k+ album reviews scraped from Pitchfork, which is a popular website for music. It was in the form of an SQLlite DB but for processing I have turned it into a csv and pandas dataframe."
   ]
  },
  {
   "cell_type": "code",
   "execution_count": 2,
   "id": "17356662",
   "metadata": {},
   "outputs": [
    {
     "name": "stdout",
     "output_type": "stream",
     "text": [
      "read from file\n"
     ]
    }
   ],
   "source": [
    "#Querying the sqlite db and making the dataframe\n",
    "if not os.path.exists(\"reviews.csv\"):\n",
    "    conn = sqlite3.connect('database.sqlite')\n",
    "\n",
    "    query = '''\n",
    "    SELECT r.*, c.content\n",
    "    FROM reviews r\n",
    "    JOIN content c ON r.reviewid = c.reviewid\n",
    "    '''\n",
    "\n",
    "    df_og = pd.read_sql_query(query, conn)\n",
    "\n",
    "    df_og.to_csv(\"reviews.csv\", index=False)\n",
    "    print(\"saved to file\")\n",
    "\n",
    "else:\n",
    "    df_og = pd.read_csv(\"reviews.csv\")\n",
    "    print(\"read from file\")"
   ]
  },
  {
   "cell_type": "markdown",
   "id": "ae9d7b38",
   "metadata": {},
   "source": [
    "## Data Processing\n",
    "\n",
    "##### Lowercase, removing stopwords, passing to TextBlob\n"
   ]
  },
  {
   "cell_type": "code",
   "execution_count": null,
   "id": "898302a9",
   "metadata": {},
   "outputs": [
    {
     "name": "stdout",
     "output_type": "stream",
     "text": [
      "[INFO] Sentiment extracted. Elapsed: 41.48s\n",
      "[INFO] Words extracted. Elapsed: 94.36s\n",
      "[INFO] DataFrame saved to reviews_blobbed.csv. Total elapsed: 102.44s\n"
     ]
    }
   ],
   "source": [
    "\n",
    "stop_words = set(stopwords.words('english'))\n",
    "\n",
    "def preprocess_text(text):\n",
    "    text = text.lower()                          # lowercase\n",
    "    text = re.sub(r'[^\\w\\s]', '', text)          # remove punctuation\n",
    "    text = re.sub(r'\\s+', ' ', text).strip()     # collapse/strip whitespace\n",
    "    return text\n",
    "\n",
    "def remove_stopwords(word_list):\n",
    "    return [w for w in word_list if w.lower() not in stop_words]\n",
    "\n",
    "\n",
    "if (not os.path.exists(\"reviews_blobbed.csv\")):\n",
    "    start_time = time.time()\n",
    "\n",
    "    #remove authortype before dropping na because that has the most missing and we dont need it\n",
    "    df = df_og.drop(['author_type'],axis=1).dropna()\n",
    "\n",
    "    # Clean the review content of punctuation and make it all lowercase\n",
    "    df['content_clean'] = df['content'].apply(lambda x: preprocess_text(x))\n",
    "\n",
    "    # Drop unnecessary columns (including now redundant author and content)\n",
    "    drop_col = [\"reviewid\",\"url\",\"best_new_music\",\"content\"]\n",
    "    df = df.drop(drop_col,axis=1)\n",
    "\n",
    "    # Apply text blob\n",
    "    df['blob'] = df['content_clean'].apply(lambda x: TextBlob(str(x)))\n",
    "\n",
    "    df['sentiment'] = df['blob'].apply(lambda x: x.sentiment)\n",
    "    print(f\"[INFO] Sentiment extracted. Elapsed: {time.time() - start_time:.2f}s\")\n",
    "\n",
    "\n",
    "    df['words'] = df['blob'].apply(lambda x: remove_stopwords(x.words))\n",
    "    print(f\"[INFO] Words extracted. Elapsed: {time.time() - start_time:.2f}s\")\n",
    "\n",
    "    df.to_csv(\"reviews_blobbed.csv\", index=False)\n",
    "    print(f\"[INFO] DataFrame saved to reviews_blobbed.csv. Total elapsed: {time.time() - start_time:.2f}s\")\n",
    "\n",
    "else:\n",
    "    df = pd.read_csv(\"reviews_blobbed.csv\")\n",
    "    print(\"read from file\")\n"
   ]
  },
  {
   "cell_type": "code",
   "execution_count": 7,
   "id": "0b45422d",
   "metadata": {},
   "outputs": [
    {
     "data": {
      "text/html": [
       "<div>\n",
       "<style scoped>\n",
       "    .dataframe tbody tr th:only-of-type {\n",
       "        vertical-align: middle;\n",
       "    }\n",
       "\n",
       "    .dataframe tbody tr th {\n",
       "        vertical-align: top;\n",
       "    }\n",
       "\n",
       "    .dataframe thead th {\n",
       "        text-align: right;\n",
       "    }\n",
       "</style>\n",
       "<table border=\"1\" class=\"dataframe\">\n",
       "  <thead>\n",
       "    <tr style=\"text-align: right;\">\n",
       "      <th></th>\n",
       "      <th>title</th>\n",
       "      <th>artist</th>\n",
       "      <th>score</th>\n",
       "      <th>pub_date</th>\n",
       "      <th>pub_weekday</th>\n",
       "      <th>pub_day</th>\n",
       "      <th>pub_month</th>\n",
       "      <th>pub_year</th>\n",
       "      <th>author_id</th>\n",
       "      <th>content_clean</th>\n",
       "      <th>blob</th>\n",
       "      <th>sentiment</th>\n",
       "      <th>words</th>\n",
       "    </tr>\n",
       "  </thead>\n",
       "  <tbody>\n",
       "    <tr>\n",
       "      <th>0</th>\n",
       "      <td>mezzanine</td>\n",
       "      <td>massive attack</td>\n",
       "      <td>9.3</td>\n",
       "      <td>2017-01-08</td>\n",
       "      <td>6</td>\n",
       "      <td>8</td>\n",
       "      <td>1</td>\n",
       "      <td>2017</td>\n",
       "      <td>0</td>\n",
       "      <td>triphop eventually became a 90s punchline a mu...</td>\n",
       "      <td>(t, r, i, p, h, o, p,  , e, v, e, n, t, u, a, ...</td>\n",
       "      <td>(0.09725585628363403, 0.48523097273097265)</td>\n",
       "      <td>[triphop, eventually, became, 90s, punchline, ...</td>\n",
       "    </tr>\n",
       "    <tr>\n",
       "      <th>1</th>\n",
       "      <td>prelapsarian</td>\n",
       "      <td>krallice</td>\n",
       "      <td>7.9</td>\n",
       "      <td>2017-01-07</td>\n",
       "      <td>5</td>\n",
       "      <td>7</td>\n",
       "      <td>1</td>\n",
       "      <td>2017</td>\n",
       "      <td>1</td>\n",
       "      <td>eight years five albums and two eps in the new...</td>\n",
       "      <td>(e, i, g, h, t,  , y, e, a, r, s,  , f, i, v, ...</td>\n",
       "      <td>(0.04265521064301552, 0.41637102734663706)</td>\n",
       "      <td>[eight, years, five, albums, two, eps, new, yo...</td>\n",
       "    </tr>\n",
       "    <tr>\n",
       "      <th>2</th>\n",
       "      <td>all of them naturals</td>\n",
       "      <td>uranium club</td>\n",
       "      <td>7.3</td>\n",
       "      <td>2017-01-07</td>\n",
       "      <td>5</td>\n",
       "      <td>7</td>\n",
       "      <td>1</td>\n",
       "      <td>2017</td>\n",
       "      <td>2</td>\n",
       "      <td>minneapolis uranium club seem to revel in bein...</td>\n",
       "      <td>(m, i, n, n, e, a, p, o, l, i, s,  , u, r, a, ...</td>\n",
       "      <td>(0.12283243486073672, 0.4370283018867924)</td>\n",
       "      <td>[minneapolis, uranium, club, seem, revel, aggr...</td>\n",
       "    </tr>\n",
       "    <tr>\n",
       "      <th>3</th>\n",
       "      <td>first songs</td>\n",
       "      <td>kleenex, liliput</td>\n",
       "      <td>9.0</td>\n",
       "      <td>2017-01-06</td>\n",
       "      <td>4</td>\n",
       "      <td>6</td>\n",
       "      <td>1</td>\n",
       "      <td>2017</td>\n",
       "      <td>3</td>\n",
       "      <td>kleenex began with a crash it transpired one n...</td>\n",
       "      <td>(k, l, e, e, n, e, x,  , b, e, g, a, n,  , w, ...</td>\n",
       "      <td>(0.1569563297222872, 0.4853611046164239)</td>\n",
       "      <td>[kleenex, began, crash, transpired, one, night...</td>\n",
       "    </tr>\n",
       "    <tr>\n",
       "      <th>4</th>\n",
       "      <td>new start</td>\n",
       "      <td>taso</td>\n",
       "      <td>8.1</td>\n",
       "      <td>2017-01-06</td>\n",
       "      <td>4</td>\n",
       "      <td>6</td>\n",
       "      <td>1</td>\n",
       "      <td>2017</td>\n",
       "      <td>4</td>\n",
       "      <td>it is impossible to consider a given release b...</td>\n",
       "      <td>(i, t,  , i, s,  , i, m, p, o, s, s, i, b, l, ...</td>\n",
       "      <td>(0.19372885256505948, 0.40957145345076384)</td>\n",
       "      <td>[impossible, consider, given, release, footwor...</td>\n",
       "    </tr>\n",
       "  </tbody>\n",
       "</table>\n",
       "</div>"
      ],
      "text/plain": [
       "                  title            artist  score    pub_date  pub_weekday  \\\n",
       "0             mezzanine    massive attack    9.3  2017-01-08            6   \n",
       "1          prelapsarian          krallice    7.9  2017-01-07            5   \n",
       "2  all of them naturals      uranium club    7.3  2017-01-07            5   \n",
       "3           first songs  kleenex, liliput    9.0  2017-01-06            4   \n",
       "4             new start              taso    8.1  2017-01-06            4   \n",
       "\n",
       "   pub_day  pub_month  pub_year  author_id  \\\n",
       "0        8          1      2017          0   \n",
       "1        7          1      2017          1   \n",
       "2        7          1      2017          2   \n",
       "3        6          1      2017          3   \n",
       "4        6          1      2017          4   \n",
       "\n",
       "                                       content_clean  \\\n",
       "0  triphop eventually became a 90s punchline a mu...   \n",
       "1  eight years five albums and two eps in the new...   \n",
       "2  minneapolis uranium club seem to revel in bein...   \n",
       "3  kleenex began with a crash it transpired one n...   \n",
       "4  it is impossible to consider a given release b...   \n",
       "\n",
       "                                                blob  \\\n",
       "0  (t, r, i, p, h, o, p,  , e, v, e, n, t, u, a, ...   \n",
       "1  (e, i, g, h, t,  , y, e, a, r, s,  , f, i, v, ...   \n",
       "2  (m, i, n, n, e, a, p, o, l, i, s,  , u, r, a, ...   \n",
       "3  (k, l, e, e, n, e, x,  , b, e, g, a, n,  , w, ...   \n",
       "4  (i, t,  , i, s,  , i, m, p, o, s, s, i, b, l, ...   \n",
       "\n",
       "                                    sentiment  \\\n",
       "0  (0.09725585628363403, 0.48523097273097265)   \n",
       "1  (0.04265521064301552, 0.41637102734663706)   \n",
       "2   (0.12283243486073672, 0.4370283018867924)   \n",
       "3    (0.1569563297222872, 0.4853611046164239)   \n",
       "4  (0.19372885256505948, 0.40957145345076384)   \n",
       "\n",
       "                                               words  \n",
       "0  [triphop, eventually, became, 90s, punchline, ...  \n",
       "1  [eight, years, five, albums, two, eps, new, yo...  \n",
       "2  [minneapolis, uranium, club, seem, revel, aggr...  \n",
       "3  [kleenex, began, crash, transpired, one, night...  \n",
       "4  [impossible, consider, given, release, footwor...  "
      ]
     },
     "execution_count": 7,
     "metadata": {},
     "output_type": "execute_result"
    }
   ],
   "source": [
    "df.head()"
   ]
  },
  {
   "cell_type": "code",
   "execution_count": null,
   "id": "e39daf72",
   "metadata": {},
   "outputs": [],
   "source": []
  },
  {
   "cell_type": "code",
   "execution_count": null,
   "id": "f2744b06",
   "metadata": {},
   "outputs": [],
   "source": []
  },
  {
   "cell_type": "code",
   "execution_count": null,
   "id": "bb4455d0",
   "metadata": {},
   "outputs": [],
   "source": []
  },
  {
   "cell_type": "code",
   "execution_count": null,
   "id": "212b4629",
   "metadata": {},
   "outputs": [],
   "source": []
  },
  {
   "cell_type": "code",
   "execution_count": null,
   "id": "f8d5bf34",
   "metadata": {},
   "outputs": [],
   "source": []
  },
  {
   "cell_type": "code",
   "execution_count": null,
   "id": "c6ff0ea4",
   "metadata": {},
   "outputs": [],
   "source": []
  },
  {
   "cell_type": "code",
   "execution_count": null,
   "id": "877c1215",
   "metadata": {},
   "outputs": [],
   "source": [
    "\n"
   ]
  },
  {
   "cell_type": "code",
   "execution_count": null,
   "id": "f4e27fc6",
   "metadata": {},
   "outputs": [],
   "source": []
  },
  {
   "cell_type": "code",
   "execution_count": null,
   "id": "78d69aa9",
   "metadata": {},
   "outputs": [],
   "source": []
  }
 ],
 "metadata": {
  "kernelspec": {
   "display_name": "ml_env",
   "language": "python",
   "name": "python3"
  },
  "language_info": {
   "codemirror_mode": {
    "name": "ipython",
    "version": 3
   },
   "file_extension": ".py",
   "mimetype": "text/x-python",
   "name": "python",
   "nbconvert_exporter": "python",
   "pygments_lexer": "ipython3",
   "version": "3.11.13"
  }
 },
 "nbformat": 4,
 "nbformat_minor": 5
}
